{
 "cells": [
  {
   "cell_type": "code",
   "execution_count": 1,
   "metadata": {
    "collapsed": false
   },
   "outputs": [],
   "source": [
    "import time\n",
    "import math\n",
    "from datetime import timedelta"
   ]
  },
  {
   "cell_type": "code",
   "execution_count": 2,
   "metadata": {
    "collapsed": true
   },
   "outputs": [],
   "source": [
    "from xiaonet import *"
   ]
  },
  {
   "cell_type": "code",
   "execution_count": 3,
   "metadata": {
    "collapsed": false
   },
   "outputs": [
    {
     "data": {
      "image/png": "[encoded data removed]",
      "text/plain": [
       "<matplotlib.figure.Figure at 0x7f3fc3435d30>"
      ]
     },
     "metadata": {},
     "output_type": "display_data"
    }
   ],
   "source": [
    "# load the complete MNIST dataset\n",
    "from xiaoloader import load_mnist\n",
    "dataset = load_mnist()\n",
    "\n",
    "import numpy as np\n",
    "%matplotlib inline\n",
    "import matplotlib.pyplot as plt\n",
    "\n",
    "images = dataset.train.images[0:4]\n",
    "labels = np.array([label.argmax() for label in dataset.train.labels[0:4]])\n",
    "plot_images(images, labels) # MNIST are 28 x 28"
   ]
  },
  {
   "cell_type": "code",
   "execution_count": 4,
   "metadata": {
    "collapsed": false
   },
   "outputs": [],
   "source": [
    "BATCH_SIZE = 250\n",
    "\n",
    "EPOCHS = 4\n",
    "\n",
    "M = 784 # 28 x 28 pixels\n",
    "\n",
    "N = 512 # hidden neurons\n",
    "\n",
    "P = 10 # number of possible classes\n",
    "\n",
    "steps = len(dataset.train.images) // BATCH_SIZE # 220 steps\n",
    "\n",
    "w1 = np.random.normal(0.0, pow(10, -0.5), (BATCH_SIZE, M, N))\n",
    "\n",
    "w2 = np.random.normal(0.0, pow(10, -0.5), (BATCH_SIZE, N, P))\n",
    "\n",
    "b1 = np.random.normal(0.0, pow(10, -0.5), (BATCH_SIZE, N))\n",
    "\n",
    "b2 = np.random.normal(0.0, pow(10, -0.5), (BATCH_SIZE, P))"
   ]
  },
  {
   "cell_type": "code",
   "execution_count": 5,
   "metadata": {
    "collapsed": true
   },
   "outputs": [],
   "source": [
    "def equal(y_predicted, y_true):\n",
    "    \n",
    "    total = 0\n",
    "    \n",
    "    for j in range(BATCH_SIZE):\n",
    "        if np.argmax(y_predicted[j]) == np.argmax(y_true[j]):\n",
    "            total += 1\n",
    "            \n",
    "    return total\n",
    "\n",
    "def eval_data(dataset):\n",
    "    \"\"\"\n",
    "    Given a dataset as input returns the loss and accuracy.\n",
    "    \"\"\"\n",
    "    steps_per_epoch = dataset.num_examples // BATCH_SIZE\n",
    "\n",
    "    num_examples = steps_per_epoch * BATCH_SIZE\n",
    "\n",
    "    total_acc, total_loss = 0, 0\n",
    "    \n",
    "    for step in range(steps_per_epoch):\n",
    "    \n",
    "        batch_x, batch_y = dataset.next_batch(BATCH_SIZE)\n",
    "        \n",
    "        total_loss += train_SGD({x: batch_x}, batch_y, [w1, b1, w2, b2])\n",
    "        \n",
    "        total_acc += equal(g.value, batch_y)\n",
    "\n",
    "    return total_loss/num_examples, total_acc*100/num_examples"
   ]
  },
  {
   "cell_type": "code",
   "execution_count": 6,
   "metadata": {
    "collapsed": true
   },
   "outputs": [],
   "source": [
    "def train_data():\n",
    "    \n",
    "    start_time = time.time()\n",
    "\n",
    "    steps = dataset.train.num_examples // BATCH_SIZE\n",
    "    \n",
    "    for i in range(EPOCHS):\n",
    "\n",
    "        for step in range(steps):\n",
    "        \n",
    "            batch_x, batch_y = dataset.train.next_batch(BATCH_SIZE)\n",
    "        \n",
    "            train_SGD({x: batch_x}, batch_y, [w1, b1, w2, b2])\n",
    "\n",
    "        val_loss, val_acc = eval_data(dataset.validation)\n",
    "        \n",
    "        msg = \"EPOCH {} ... Validation loss = {}, Validation accuracy = {}%\"\n",
    "        print(msg.format(i+1, val_loss, val_acc))\n",
    "    \n",
    "    time_dif = time.time() - start_time\n",
    "\n",
    "    print(\"Time usage: \" + str(timedelta(seconds=int(round(time_dif)))))"
   ]
  },
  {
   "cell_type": "code",
   "execution_count": 7,
   "metadata": {
    "collapsed": false
   },
   "outputs": [
    {
     "name": "stdout",
     "output_type": "stream",
     "text": [
      "beginning training\n",
      "\n",
      "EPOCH 1 ... Validation loss = 0.12801770217298866, Validation accuracy = 10.36%\n",
      "EPOCH 2 ... Validation loss = 0.12893329311275625, Validation accuracy = 10.36%\n",
      "EPOCH 3 ... Validation loss = 0.1286522747955876, Validation accuracy = 9.46%\n",
      "EPOCH 4 ... Validation loss = 0.1297848246554159, Validation accuracy = 10.02%\n",
      "Time usage: 0:02:04\n"
     ]
    }
   ],
   "source": [
    "x = Input(w1, b1)\n",
    "\n",
    "h = Hidden(x, w2, b2)\n",
    "\n",
    "# r = Relu(h)\n",
    "\n",
    "# h = Hidden(r, w2, b2)\n",
    "\n",
    "g = Softmax(h)\n",
    "\n",
    "cost = CrossEntropy(g) # numpy.mean(CrossEntropy) over BATCH SIZE\n",
    "\n",
    "print(\"beginning training\\n\")\n",
    "train_data()"
   ]
  },
  {
   "cell_type": "code",
   "execution_count": 8,
   "metadata": {
    "collapsed": false
   },
   "outputs": [
    {
     "name": "stdout",
     "output_type": "stream",
     "text": [
      "\n",
      "Test loss = 0.1315336948251015\n",
      "Test accuracy = 9.38\n"
     ]
    }
   ],
   "source": [
    "# Evaluate on the test data\n",
    "test_loss, test_acc = eval_data(dataset.test)\n",
    "print(\"\\nTest loss = {}\".format(test_loss))\n",
    "print(\"Test accuracy = {}\".format(test_acc))"
   ]
  },
  {
   "cell_type": "code",
   "execution_count": 44,
   "metadata": {
    "collapsed": true
   },
   "outputs": [],
   "source": [
    "def plot_images(images, labels, pred_labels=None):\n",
    "    #assert len(images) == len(labels) == 5\n",
    "    \n",
    "    # Create figure with 2x2 sub-plots.\n",
    "    fig, axes = plt.subplots(2, 2, figsize=(2,2))\n",
    "    fig.subplots_adjust(hspace=1, wspace=1.9)\n",
    "\n",
    "    for i, ax in enumerate(axes.flat):\n",
    "        # Plot image.\n",
    "        ax.imshow(images[i].reshape((28, 28)), cmap='binary')\n",
    "\n",
    "        # Show true and predicted classes.\n",
    "        if pred_labels is None:\n",
    "            xlabel = \"True: {0}\".format(labels[i])\n",
    "        else:\n",
    "            xlabel = \"True: {0}, Pred: {1}\".format(labels[i], pred_labels[i])\n",
    "\n",
    "        ax.set_xlabel(xlabel)\n",
    "        \n",
    "        # Remove ticks from the plot.\n",
    "        ax.set_xticks([])\n",
    "        ax.set_yticks([])"
   ]
  },
  {
   "cell_type": "code",
   "execution_count": 10,
   "metadata": {
    "collapsed": false
   },
   "outputs": [],
   "source": [
    "def plot_example_predictions(predicted):\n",
    "\n",
    "    labels = np.array([label.argmax() for label in dataset.test.labels[10:14]])\n",
    "    \n",
    "    pred = np.array([label[1].argmax() for label in predicted])\n",
    "    \n",
    "    images = dataset.test.images[10:14]\n",
    "    \n",
    "    plot_images(images,labels, pred_labels=pred)"
   ]
  },
  {
   "cell_type": "code",
   "execution_count": 11,
   "metadata": {
    "collapsed": false
   },
   "outputs": [
    {
     "data": {
      "image/png": "[encoded data removed]",
      "text/plain": [
       "<matplotlib.figure.Figure at 0x7f3fc1119e80>"
      ]
     },
     "metadata": {},
     "output_type": "display_data"
    }
   ],
   "source": [
    "plot_example_predictions(g.value)"
   ]
  },
  {
   "cell_type": "code",
   "execution_count": 45,
   "metadata": {
    "collapsed": false
   },
   "outputs": [
    {
     "data": {
      "image/png": "[encoded data removed]",
      "text/plain": [
       "<matplotlib.figure.Figure at 0x7f3fb5db95c0>"
      ]
     },
     "metadata": {},
     "output_type": "display_data"
    }
   ],
   "source": [
    "images = np.array([img[:,0] for img in w1[0:4]])\n",
    "labels = np.array([label.argmax() for label in dataset.test.labels[10:14]])\n",
    "plot_images(images,labels)"
   ]
  }
 ],
 "metadata": {
  "kernelspec": {
   "display_name": "Python 3",
   "language": "python",
   "name": "python3"
  },
  "language_info": {
   "codemirror_mode": {
    "name": "ipython",
    "version": 3
   },
   "file_extension": ".py",
   "mimetype": "text/x-python",
   "name": "python",
   "nbconvert_exporter": "python",
   "pygments_lexer": "ipython3",
   "version": "3.5.2"
  }
 },
 "nbformat": 4,
 "nbformat_minor": 2
}
