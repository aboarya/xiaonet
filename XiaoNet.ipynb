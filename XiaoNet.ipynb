{
 "cells": [
  {
   "cell_type": "code",
   "execution_count": 9,
   "metadata": {
    "collapsed": true
   },
   "outputs": [],
   "source": [
    "from xiaonet import *"
   ]
  },
  {
   "cell_type": "code",
   "execution_count": 12,
   "metadata": {
    "collapsed": false
   },
   "outputs": [
    {
     "data": {
      "image/png": "[encoded data removed]",
      "text/plain": [
       "<matplotlib.figure.Figure at 0x10b8b4518>"
      ]
     },
     "metadata": {},
     "output_type": "display_data"
    }
   ],
   "source": [
    "# load the complete MNIST dataset\n",
    "from xiaoloader import load_mnist\n",
    "dataset = load_mnist()\n",
    "\n",
    "import numpy as np\n",
    "%matplotlib inline\n",
    "import matplotlib.pyplot as plt\n",
    "\n",
    "images = dataset.train.images[0:4]\n",
    "labels = np.array([label.argmax() for label in dataset.train.labels[0:4]])\n",
    "plot_images(images, labels) # MNIST are 28 x 28"
   ]
  },
  {
   "cell_type": "code",
   "execution_count": 11,
   "metadata": {
    "collapsed": true
   },
   "outputs": [],
   "source": [
    "def train_data():\n",
    "\n",
    "    start_time = time.time()\n",
    "\n",
    "    steps = len(train_images) // BATCH_SIZE\n",
    "\n",
    "    for i in range(400):\n",
    "\n",
    "        for step in range(steps):\n",
    "\n",
    "            batch_x, batch_y = next_batch(train_images, train_labels, BATCH_SIZE)\n",
    "\n",
    "            loss = sess.run(optimizer, feed_dict={x: batch_x, y: batch_y})\n",
    "\n",
    "        val_loss, val_acc = eval_data(validation_images, validation_labels)\n",
    "\n",
    "        if i % 10 == 0:\n",
    "            msg = \"EPOCH {} ... Validation loss = {}, Validation accuracy = {}%\"\n",
    "            print(msg.format(i+1, val_loss, val_acc))\n",
    "\n",
    "    end_time = time.time()\n",
    "\n",
    "    time_dif = end_time - start_time\n",
    "\n",
    "    print(\"Time usage: \" + str(timedelta(seconds=int(round(time_dif)))))"
   ]
  },
  {
   "cell_type": "code",
   "execution_count": 5,
   "metadata": {
    "collapsed": false
   },
   "outputs": [],
   "source": [
    "BATCH_SIZE = 250\n",
    "\n",
    "EPOCHS = 2\n",
    "\n",
    "M = 784 # 28 x 28 pixels\n",
    "\n",
    "P = 10 # number of possible classes\n",
    "\n",
    "N = 512 # hidden neurons\n",
    "\n",
    "b1 = 10 # number of possible classes\n",
    "\n",
    "b2 = 512 # hidden neurons\n",
    "\n",
    "steps = len(dataset.train.images) // BATCH_SIZE # 220 steps\n",
    "\n",
    "w1 = np.random.normal(0.0, pow(10, -0.5), (BATCH_SIZE, N, P))\n",
    "\n",
    "w2 = np.random.normal(0.0, pow(10, -0.5), (BATCH_SIZE, M, N))\n",
    "\n",
    "b1 = np.random.normal(0.0, pow(10, -0.5), (BATCH_SIZE, 10))\n",
    "\n",
    "b2 = np.random.normal(0.0, pow(10, -0.5), (BATCH_SIZE, 512))"
   ]
  },
  {
   "cell_type": "code",
   "execution_count": 8,
   "metadata": {
    "collapsed": false
   },
   "outputs": [
    {
     "name": "stdout",
     "output_type": "stream",
     "text": [
      "(250, 784)\n"
     ]
    },
    {
     "ename": "AttributeError",
     "evalue": "'Input' object has no attribute 'x'",
     "output_type": "error",
     "traceback": [
      "\u001b[0;31m---------------------------------------------------------------------------\u001b[0m",
      "\u001b[0;31mAttributeError\u001b[0m                            Traceback (most recent call last)",
      "\u001b[0;32m<ipython-input-8-50690b74ade5>\u001b[0m in \u001b[0;36m<module>\u001b[0;34m()\u001b[0m\n\u001b[1;32m     20\u001b[0m \u001b[0;34m\u001b[0m\u001b[0m\n\u001b[1;32m     21\u001b[0m \u001b[0;34m\u001b[0m\u001b[0m\n\u001b[0;32m---> 22\u001b[0;31m         \u001b[0mtrain_SGD\u001b[0m\u001b[0;34m(\u001b[0m\u001b[0;34m{\u001b[0m\u001b[0mx\u001b[0m\u001b[0;34m:\u001b[0m \u001b[0mbatch_x\u001b[0m\u001b[0;34m}\u001b[0m\u001b[0;34m,\u001b[0m \u001b[0mbatch_y\u001b[0m\u001b[0;34m,\u001b[0m \u001b[0;34m[\u001b[0m\u001b[0mw1\u001b[0m\u001b[0;34m,\u001b[0m \u001b[0mw2\u001b[0m\u001b[0;34m,\u001b[0m \u001b[0mb1\u001b[0m\u001b[0;34m,\u001b[0m \u001b[0mb2\u001b[0m\u001b[0;34m]\u001b[0m\u001b[0;34m,\u001b[0m \u001b[0;36m10\u001b[0m\u001b[0;34m)\u001b[0m\u001b[0;34m\u001b[0m\u001b[0m\n\u001b[0m",
      "\u001b[0;32m/Users/sam.mohamed/development/xiaonet/xiaonet.py\u001b[0m in \u001b[0;36mtrain_SGD\u001b[0;34m(feed_dict, ideal_output, trainables, epochs, learning_rate)\u001b[0m\n\u001b[1;32m    259\u001b[0m     \u001b[0;32mfor\u001b[0m \u001b[0mi\u001b[0m \u001b[0;32min\u001b[0m \u001b[0mrange\u001b[0m\u001b[0;34m(\u001b[0m\u001b[0mepochs\u001b[0m\u001b[0;34m)\u001b[0m\u001b[0;34m:\u001b[0m\u001b[0;34m\u001b[0m\u001b[0m\n\u001b[1;32m    260\u001b[0m         \u001b[0;31m# Forward pass\u001b[0m\u001b[0;34m\u001b[0m\u001b[0;34m\u001b[0m\u001b[0m\n\u001b[0;32m--> 261\u001b[0;31m         \u001b[0;32mfor\u001b[0m \u001b[0mn\u001b[0m \u001b[0;32min\u001b[0m \u001b[0msorted_layers\u001b[0m\u001b[0;34m:\u001b[0m\u001b[0;34m\u001b[0m\u001b[0m\n\u001b[0m\u001b[1;32m    262\u001b[0m             \u001b[0mn\u001b[0m\u001b[0;34m.\u001b[0m\u001b[0mforward\u001b[0m\u001b[0;34m(\u001b[0m\u001b[0;34m)\u001b[0m\u001b[0;34m\u001b[0m\u001b[0m\n\u001b[1;32m    263\u001b[0m \u001b[0;34m\u001b[0m\u001b[0m\n",
      "\u001b[0;32m/Users/sam.mohamed/development/xiaonet/xiaonet.py\u001b[0m in \u001b[0;36mforward\u001b[0;34m(self)\u001b[0m\n\u001b[1;32m     45\u001b[0m \u001b[0;34m\u001b[0m\u001b[0m\n\u001b[1;32m     46\u001b[0m     \u001b[0;32mdef\u001b[0m \u001b[0mforward\u001b[0m\u001b[0;34m(\u001b[0m\u001b[0mself\u001b[0m\u001b[0;34m)\u001b[0m\u001b[0;34m:\u001b[0m\u001b[0;34m\u001b[0m\u001b[0m\n\u001b[0;32m---> 47\u001b[0;31m         \u001b[0;34m\"\"\" Layer: Input.  execute w1 * x + b2\"\"\"\u001b[0m\u001b[0;34m\u001b[0m\u001b[0m\n\u001b[0m\u001b[1;32m     48\u001b[0m         \u001b[0mh\u001b[0m \u001b[0;34m=\u001b[0m \u001b[0mnp\u001b[0m\u001b[0;34m.\u001b[0m\u001b[0mdot\u001b[0m\u001b[0;34m(\u001b[0m\u001b[0mself\u001b[0m\u001b[0;34m.\u001b[0m\u001b[0mx\u001b[0m\u001b[0;34m,\u001b[0m \u001b[0mself\u001b[0m\u001b[0;34m.\u001b[0m\u001b[0mw\u001b[0m\u001b[0;34m)\u001b[0m\u001b[0;34m\u001b[0m\u001b[0m\n\u001b[1;32m     49\u001b[0m         \u001b[0mself\u001b[0m\u001b[0;34m.\u001b[0m\u001b[0mvalue\u001b[0m \u001b[0;34m=\u001b[0m \u001b[0mh\u001b[0m \u001b[0;34m+\u001b[0m \u001b[0mself\u001b[0m\u001b[0;34m.\u001b[0m\u001b[0mb\u001b[0m\u001b[0;34m\u001b[0m\u001b[0m\n",
      "\u001b[0;31mAttributeError\u001b[0m: 'Input' object has no attribute 'x'"
     ]
    }
   ],
   "source": [
    "batch_x, batch_y = dataset.train.next_batch(BATCH_SIZE)\n",
    "\n",
    "x = Input(w1, b1)\n",
    "\n",
    "h = Hidden(x, w2, b2)\n",
    "\n",
    "# r = Relu(h)\n",
    "\n",
    "# h = Hidden(r, w2, b2)\n",
    "\n",
    "g = Softmax(h)\n",
    "\n",
    "distance = CrossEntropy(g) # numpy.mean(CrossEntropy) over BATCH SIZE\n",
    "\n",
    "for i in range(EPOCHS):\n",
    "    \n",
    "    for step in range(steps):\n",
    "\n",
    "        batch_x, batch_y = dataset.train.next_batch(BATCH_SIZE)\n",
    "        \n",
    "        \n",
    "        train_SGD({x: batch_x}, batch_y, [w1, w2, b1, b2], 10)\n"
   ]
  }
 ],
 "metadata": {
  "kernelspec": {
   "display_name": "Python 3",
   "language": "python",
   "name": "python3"
  },
  "language_info": {
   "codemirror_mode": {
    "name": "ipython",
    "version": 3
   },
   "file_extension": ".py",
   "mimetype": "text/x-python",
   "name": "python",
   "nbconvert_exporter": "python",
   "pygments_lexer": "ipython3",
   "version": "3.5.2"
  }
 },
 "nbformat": 4,
 "nbformat_minor": 2
}
